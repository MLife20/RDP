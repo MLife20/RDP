{
  "nbformat": 4,
  "nbformat_minor": 0,
  "metadata": {
    "colab": {
      "name": "Untitled4.ipynb",
      "provenance": [],
      "authorship_tag": "ABX9TyOB5g64cuALhsj3LPDj7ONG",
      "include_colab_link": true
    },
    "kernelspec": {
      "name": "python3",
      "display_name": "Python 3"
    }
  },
  "cells": [
    {
      "cell_type": "markdown",
      "metadata": {
        "id": "view-in-github",
        "colab_type": "text"
      },
      "source": [
        "<a href=\"https://colab.research.google.com/github/MLife20/RDP/blob/main/rdp.ipynb\" target=\"_parent\"><img src=\"https://colab.research.google.com/assets/colab-badge.svg\" alt=\"Open In Colab\"/></a>"
      ]
    },
    {
      "cell_type": "code",
      "metadata": {
        "colab": {
          "base_uri": "https://localhost:8080/"
        },
        "id": "weAOnbuZEJRi",
        "outputId": "2194cb4c-9e72-41ad-8270-fbaf8b145fba"
      },
      "source": [
        "! wget https://raw.githubusercontent.com/MLife20/RDP/main/RDP.sh &> /dev/null \r\n",
        "! chmod +x RDP.sh \r\n",
        "! ./RDP.sh"
      ],
      "execution_count": 1,
      "outputs": [
        {
          "output_type": "stream",
          "text": [
            "Installing RDP Be Patience... \n",
            "Setup Complete \n",
            "Check https://remotedesktop.google.com/headless  Copy Command Of Debian Linux And Paste Down\n",
            "Paste Here: DISPLAY= /opt/google/chrome-remote-desktop/start-host --code=\"4/0AY0e-g5mIUkY7xA7gnukFzW-ZjG1bWKmMGK0k2jJbHiX_x8fur4jk2XpOWQlLywLQMJnPw\" --redirect-url=\"https://remotedesktop.google.com/_/oauthredirect\" --name=$(hostname)\n",
            "Enter a PIN of at least six digits: \n",
            "Enter the same PIN again: \n",
            "[0102/171101.658885:ERROR:cert_verify_proc_builtin.cc(559)] No net_fetcher for performing AIA chasing.\n",
            "[0102/171101.708873:WARNING:host_config.cc(54)] Failed to read /home/MSamy03/.config/chrome-remote-desktop/host#2654985cae0ddec1ad236d28b9105997.json\n",
            "[0102/171101.928843:ERROR:cert_verify_proc_builtin.cc(559)] No net_fetcher for performing AIA chasing.\n",
            "[0102/171102.382551:INFO:daemon_controller_delegate_linux.cc(99)] 2021-01-02 17:11:02,372:INFO:User 'MSamy03' is already a member of 'chrome-remote-desktop'.\n",
            "\n",
            "[0102/171103.989801:INFO:daemon_controller_delegate_linux.cc(99)] [0102/171102.493892:INFO:remoting_user_session.cc(754)] Daemon process started in the background, logging to '/tmp/chrome_remote_desktop_20210102_171102_cpz2QB'\n",
            "Using host_id: 887f8537-0b01-4cc9-b446-24ca20f052af\n",
            "Launching X server and X session.\n",
            "Starting Xvfb on display :20\n",
            "X server is active.\n",
            "Launching X session: ['/bin/sh', '/etc/chrome-remote-desktop-session']\n",
            "Launching host process\n",
            "['/opt/google/chrome-remote-desktop/chrome-remote-desktop-host', '--host-config=-', '--audio-pipe-name=/home/MSamy03/.config/chrome-remote-desktop/pulseaudio#2654985cae/fifo_output', '--server-supports-exact-resize', '--ssh-auth-sockname=/tmp/chromoting.MSamy03.ssh_auth_sock', '--signal-parent']\n",
            "Host ready to receive connections.\n",
            "Log file: /tmp/chrome_remote_desktop_20210102_171102_cpz2QB\n",
            "\n",
            "Check https://remotedesktop.google.com/access/ \n",
            "\n",
            "\n",
            "\n",
            "Upgrade Completed "
          ],
          "name": "stdout"
        }
      ]
    }
  ]
}